{
  "nbformat": 4,
  "nbformat_minor": 0,
  "metadata": {
    "colab": {
      "name": "Colab-rudalle-aspect-ratio.ipynb",
      "private_outputs": true,
      "provenance": [],
      "collapsed_sections": []
    },
    "kernelspec": {
      "name": "python3",
      "display_name": "Python 3"
    },
    "language_info": {
      "name": "python"
    },
    "accelerator": "GPU"
  },
  "cells": [
    {
      "cell_type": "code",
      "source": [
        "!nvidia-smi"
      ],
      "metadata": {
        "id": "Vaa09qe4u6QT"
      },
      "execution_count": null,
      "outputs": []
    },
    {
      "cell_type": "code",
      "execution_count": null,
      "metadata": {
        "cellView": "form",
        "id": "Zb5JrUWou4IU"
      },
      "outputs": [],
      "source": [
        "#@title install\n",
        "!pip install rudalle==1.0.0\n",
        "!git clone https://github.com/shonenkov-AI/rudalle-aspect-ratio"
      ]
    },
    {
      "cell_type": "code",
      "source": [
        "#@title Run model\n",
        "import sys\n",
        "sys.path.insert(0, './rudalle-aspect-ratio')\n",
        "from rudalle_aspect_ratio import RuDalleAspectRatio, get_rudalle_model\n",
        "from rudalle import get_vae, get_tokenizer\n",
        "from rudalle.pipelines import show\n",
        "\n",
        "device = 'cuda'\n",
        "dalle = get_rudalle_model('Surrealist_XL', fp16=True, device=device)\n",
        "vae, tokenizer = get_vae().to(device), get_tokenizer()\n",
        "rudalle_ar = RuDalleAspectRatio(\n",
        "    dalle=dalle, vae=vae, tokenizer=tokenizer,\n",
        "    aspect_ratio=32/9, bs=4, device=device\n",
        ")\n",
        "input_text = '\\u0430\\u043D\\u0438\\u043C\\u0435' #@param {type:\"string\"}\n",
        "_, result_pil_images = rudalle_ar.generate_images(input_text, 1024, 0.975, 4)\n",
        "show(result_pil_images, 1)"
      ],
      "metadata": {
        "cellView": "form",
        "id": "eP1farmhu-Te"
      },
      "execution_count": null,
      "outputs": []
    },
    {
      "cell_type": "code",
      "source": [
        ""
      ],
      "metadata": {
        "id": "z-NBjzDuwmRa"
      },
      "execution_count": null,
      "outputs": []
    }
  ]
}